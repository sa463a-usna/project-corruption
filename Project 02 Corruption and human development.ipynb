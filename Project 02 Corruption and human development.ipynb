{
 "cells": [
  {
   "cell_type": "markdown",
   "metadata": {},
   "source": [
    "**SA463A &#x25aa; Data Wrangling and Visualization &#x25aa; Fall 2020 &#x25aa; Foraker and Uhan**"
   ]
  },
  {
   "cell_type": "markdown",
   "metadata": {},
   "source": [
    "# Project 2. Corruption and Human Development"
   ]
  },
  {
   "cell_type": "markdown",
   "metadata": {},
   "source": [
    "In this project, you will recreate the graphic below, showing the relationship between corruption and human development in countries across the globe. The graphic below is based on a graphic originally published in *The Economist* in 2011. [Click here for the original graphic.](img/economist.png)\n",
    "\n",
    "![](img/economist_altair.svg)\n",
    "\n",
    "The learning goals of this project are three-fold:\n",
    "\n",
    "1. You will apply what you've learned about multi-view composition; in particular, layering charts on top of each other.\n",
    "\n",
    "2. You will get some practice customizing visualizations so that they're ready for publication: on a web page, in an academic report, or in a memo to your supervisor.\n",
    "\n",
    "3. You will also get a lot of practice reading and applying the Altair documentation."
   ]
  },
  {
   "cell_type": "markdown",
   "metadata": {},
   "source": [
    "<hr style=\"border-top: 2px solid gray; margin-top: 1px; margin-bottom: 1px\"></hr>"
   ]
  },
  {
   "cell_type": "markdown",
   "metadata": {},
   "source": [
    "### Problem 0."
   ]
  },
  {
   "cell_type": "markdown",
   "metadata": {},
   "source": [
    "Import Pandas and Altair."
   ]
  },
  {
   "cell_type": "code",
   "execution_count": null,
   "metadata": {},
   "outputs": [],
   "source": []
  },
  {
   "cell_type": "markdown",
   "metadata": {},
   "source": [
    "### Problem 1."
   ]
  },
  {
   "cell_type": "markdown",
   "metadata": {},
   "source": [
    "In the same folder as this notebook, there is a CSV file `data/economist.csv`. This file contains 4 columns:\n",
    "\n",
    "| Column    | Description                                                                    |\n",
    "| :-        | :-                                                                             |\n",
    "| `Country` | Name of country                                                                |\n",
    "| `HDI`     | [Human Development Index](http://hdr.undp.org/en/data), 2011                   |\n",
    "| `CPI`     | [Corruption Perceptions Index](https://www.transparency.org/en/cpi/2011), 2011 |\n",
    "| `Region`  | Region of the world, from the [CPI data](https://www.transparency.org/en/cpi/2011)  |\n",
    "\n",
    "Load `data/economist.csv` into a Pandas DataFrame. Check your work by displaying the first 5 rows."
   ]
  },
  {
   "cell_type": "code",
   "execution_count": null,
   "metadata": {},
   "outputs": [],
   "source": []
  },
  {
   "cell_type": "markdown",
   "metadata": {},
   "source": [
    "### Problem 2."
   ]
  },
  {
   "cell_type": "markdown",
   "metadata": {},
   "source": [
    "Start by creating a scatter plot of CPI vs. HDI, using color to differentiate between the different regions of the world. To match the appearance of the graphic above:\n",
    "\n",
    "\n",
    "- Include the correct titles for the x- and y-axes.\n",
    "\n",
    "\n",
    "- Play with the mark properties to adjust the size, stroke width, and fill of the scatter plot points, to get them as close as possible to the graphic above.\n",
    "\n",
    "\n",
    "- Use the following CSS color strings to color the points in your scatter plot:\n",
    "\n",
    "| Region                     | CSS Color String |\n",
    "| :-                         | :-               |\n",
    "| OECD                       | `#24576d`        |\n",
    "| Americas                   | `#099dd7`        |\n",
    "| Asia & Oceania             | `#28aadc`        |\n",
    "| Central & Eastern Europe   | `#248e84`        |\n",
    "| Middle East & North Africa | `#f2483f`        |\n",
    "| Sub-Saharan Africa         | `#96503f`        |\n",
    "\n",
    "\n",
    "*Hint.* [Here is the Altair documentation for mark properties.](https://altair-viz.github.io/user_guide/marks.html#mark-properties)"
   ]
  },
  {
   "cell_type": "code",
   "execution_count": null,
   "metadata": {},
   "outputs": [],
   "source": []
  },
  {
   "cell_type": "markdown",
   "metadata": {},
   "source": [
    "### Problem 3."
   ]
  },
  {
   "cell_type": "markdown",
   "metadata": {},
   "source": [
    "Note that in the graphic you're trying to recreate, certain points are labeled with their corresponding country name. Your next step is to create these labels.\n",
    "\n",
    "In the code cell below, there is a list named `points_to_label`, consisting of the country names of the points labeled in the graphic above.\n",
    "\n",
    "Create a scatter plot of CPI vs. HDI for the countries in `points_to_label`, using text labels to represent each point. To match the appearance of the graphic above, play around with the mark properties to:\n",
    "\n",
    "- adjust the horizontal alignment and the vertical baseline of the points, and\n",
    "\n",
    "\n",
    "- adjust the horizontal and vertical offset of the text labels.\n",
    "\n",
    "\n",
    "*Hint.* To filter the data so that one of the variables matches one of the values in a given list, use the `FieldOneOfPredicate` predicate, instead of a Vega expression string, as we did with `transform_filter()` in class. [Here is the Altair documentation for field predicates.](https://altair-viz.github.io/user_guide/transform/filter.html#field-predicates)"
   ]
  },
  {
   "cell_type": "code",
   "execution_count": null,
   "metadata": {},
   "outputs": [],
   "source": [
    "points_to_label = [\n",
    "    'Russia',\n",
    "    'Venezuela',\n",
    "    'Iraq',\n",
    "    'Myanmar',\n",
    "    'Sudan',\n",
    "    'Afghanistan',\n",
    "    'Congo',\n",
    "    'Greece',\n",
    "    'Argentina',\n",
    "    'Brazil',\n",
    "    'India',\n",
    "    'Italy',\n",
    "    'China',\n",
    "    'South Africa',\n",
    "    'Spain',\n",
    "    'Botswana',\n",
    "    'Cape Verde',\n",
    "    'Bhutan',\n",
    "    'Rwanda',\n",
    "    'France',\n",
    "    'United States',\n",
    "    'Germany',\n",
    "    'Britain',\n",
    "    'Barbados',\n",
    "    'Norway',\n",
    "    'Japan',\n",
    "    'New Zealand',\n",
    "    'Singapore'\n",
    "]"
   ]
  },
  {
   "cell_type": "code",
   "execution_count": null,
   "metadata": {},
   "outputs": [],
   "source": [
    "# Your code here\n"
   ]
  },
  {
   "cell_type": "markdown",
   "metadata": {},
   "source": [
    "### Problem 4."
   ]
  },
  {
   "cell_type": "markdown",
   "metadata": {},
   "source": [
    "Note that in the graphic you're trying to recreate, there is a red fitted line. Your next step is to recreate this line.\n",
    "\n",
    "It turns out that this line was computed by fitting a logarithmic regression to the CPI and HDI data. This can be done in Altair with the `transform_regression()` method. In particular, to perform a logarithmic regression with `x` as the independent variable and `y` as the dependent variable, you can apply `transform_regression()` on an Altair chart object, like this:\n",
    "\n",
    "```python\n",
    "alt.Chart(df).transform_regression(\n",
    "    'x', 'y', method='log'\n",
    ")\n",
    "```\n",
    "\n",
    "For more details on regression transforms, [here is the relevant part of the Altair documentation.](https://altair-viz.github.io/user_guide/transform/regression.html)\n",
    "\n",
    "Create a line chart of the fitted line obtained by performing logarithmic regression of CPI on HDI.  To match the appearance of the graphic you're trying to recreate, adjust the mark properties so that the color of the line is red."
   ]
  },
  {
   "cell_type": "code",
   "execution_count": null,
   "metadata": {},
   "outputs": [],
   "source": []
  },
  {
   "cell_type": "markdown",
   "metadata": {},
   "source": [
    "### Problem 5."
   ]
  },
  {
   "cell_type": "markdown",
   "metadata": {},
   "source": [
    "Now it's time to put all the pieces together.\n",
    "\n",
    "Layer the charts you created in Problems 2, 3 and 4 to create a single chart. Think carefully about the order in which you layer the charts, and how that would affect the readability of the chart.\n",
    "\n",
    "\n",
    "In addition, make the following adjustments to make your chart look identical to the graphic you're trying to recreate:\n",
    "\n",
    "- Adjust the chart properties to add a title (\"Corruption and human development\") to the chart, and resize the chart (600 pixels wide, 400 pixels high).\n",
    "\n",
    "\n",
    "- Configure the title so it is anchored to the left, has a larger font size, and has some padding (i.e. y-coordinate offset from the plotting area).\n",
    "\n",
    "\n",
    "- Configure both axes so that their titles have normal font weight and italic font style, no axis baseline, and no ticks. Increase the padding of the labels and title so that they are not so close to the axes.\n",
    "\n",
    "\n",
    "- Configure the x-axis so that no vertical grid lines appear. Limit the number of ticks on the x-axis to 10.\n",
    "\n",
    "\n",
    "- Configure the legend so that it is oriented on top of the chart, and has no title.\n",
    "\n",
    "\n",
    "- Configure the view of the chart so that the stroke width of the box surrounding the chart is zero (i.e., remove the box surrounding the chart).\n",
    "\n",
    "\n",
    "*Hint.* Refer to the [Altair documentation on top-level chart configuration](https://altair-viz.github.io/user_guide/configuration.html) and use the various `Chart.configure_*` methods to make the necessary appearance adjustments."
   ]
  },
  {
   "cell_type": "code",
   "execution_count": null,
   "metadata": {},
   "outputs": [],
   "source": []
  },
  {
   "cell_type": "markdown",
   "metadata": {},
   "source": [
    "<hr style=\"border-top: 2px solid gray; margin-top: 1px; margin-bottom: 1px\"></hr>"
   ]
  },
  {
   "cell_type": "markdown",
   "metadata": {},
   "source": [
    "## Grading rubric"
   ]
  },
  {
   "cell_type": "markdown",
   "metadata": {},
   "source": [
    "| Problem |                                                                                                                                      | Points |\n",
    "| :-      | :-                                                                                                                                   | -:     |\n",
    "| 0       | Imported Pandas and Altair                                                                                                           | 2      |\n",
    "| 1       | Loaded CSV file                                                                                                                      | 2      |\n",
    "|         | Displayed the first 5 rows of the DataFrame                                                                                          | 2      |\n",
    "| 2       | Created scatter plot, using correct encodings for CPI and HDI                                                                        | 4      |\n",
    "|         | Used color to differentiate between regions                                                                                          | 2      |\n",
    "|         | Used given color scale for different regions                                                                                         | 2      |\n",
    "|         | Included title for x- and y- axes                                                                                                    | 2      |\n",
    "|         | Adjusted size, stroke width, and fill mark properties appropriately                                                                  | 3      |\n",
    "| 3       | Filtered for countries in `points_to_label`                                                                                          | 4      |\n",
    "|         | Created scatter plot of text labels, using correct encodings for CPI and HDI                                                         | 4      |\n",
    "|         | Adjusted alignment and offset mark properties appropriately                                                                          | 2      |\n",
    "| 4       | Performed logarithmic regression transform of CPI on HDI                                                                             | 4      |\n",
    "|         | Created line chart of fitted logarithmic regression line                                                                             | 4      |\n",
    "|         | Adjusted color mark property appropriately                                                                                           | 2      |\n",
    "| 5       | Layered 3 charts correctly and in a reasonable order                                                                                                           | 4      |\n",
    "|         | Adjusted chart properties to add title and resize width and height                                                                   | 3      |\n",
    "|         | Configured title: left anchor, larger font size, padding                                                                             | 3      |\n",
    "|         | Configured axes: normal font weight, italic font style, no axis baseline, no ticks, increased label padding, increased title padding | 6      |\n",
    "|         | Configured x-axis: no vertical grid lines, 10 ticks                                                                                  | 2      |\n",
    "|         | Configured legend: oriented on top, no title                                                                                         | 2      |\n",
    "|         | Configured view: no surrounding box                                                                                                  | 1      |\n",
    "|         | **Total**                                                                                                                            | **60** |\n"
   ]
  }
 ],
 "metadata": {
  "kernelspec": {
   "display_name": "Python 3",
   "language": "python",
   "name": "python3"
  },
  "language_info": {
   "codemirror_mode": {
    "name": "ipython",
    "version": 3
   },
   "file_extension": ".py",
   "mimetype": "text/x-python",
   "name": "python",
   "nbconvert_exporter": "python",
   "pygments_lexer": "ipython3",
   "version": "3.7.6"
  }
 },
 "nbformat": 4,
 "nbformat_minor": 4
}
